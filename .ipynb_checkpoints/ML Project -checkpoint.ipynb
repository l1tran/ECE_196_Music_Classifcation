{
 "cells": [
  {
   "cell_type": "code",
   "execution_count": 1,
   "metadata": {},
   "outputs": [],
   "source": [
    "import pandas as pd\n",
    "import numpy as np\n",
    "#-----------------------------------------Scikit----------------------------------------------\n",
    "from sklearn.model_selection import train_test_split\n",
    "from sklearn.decomposition import PCA\n",
    "from sklearn.metrics import balanced_accuracy_score\n",
    "from sklearn.preprocessing import LabelEncoder\n",
    "from sklearn.preprocessing import MinMaxScaler\n",
    "#------------------------------------import feature selection----------------------------------\n",
    "from sklearn.feature_selection import SelectKBest\n",
    "from sklearn.feature_selection import chi2            #score_func, need to normalize to remove negative to use\n",
    "from sklearn.feature_selection import f_classif\n",
    "#-----------------------------------------Seaborn----------------------------------------------\n",
    "import matplotlib.pyplot as plt\n",
    "import ssl\n",
    "import seaborn as sns\n",
    "ssl._create_default_https_context = ssl._create_unverified_context\n",
    "sns.set(style='darkgrid')"
   ]
  },
  {
   "cell_type": "code",
   "execution_count": 2,
   "metadata": {
    "scrolled": true
   },
   "outputs": [],
   "source": [
    "df = pd.read_csv('./Data/features_30_sec.csv')          #read file\n",
    "df_test = pd.read_csv('./data.csv')"
   ]
  },
  {
   "cell_type": "code",
   "execution_count": 3,
   "metadata": {},
   "outputs": [
    {
     "data": {
      "text/html": [
       "<div>\n",
       "<style scoped>\n",
       "    .dataframe tbody tr th:only-of-type {\n",
       "        vertical-align: middle;\n",
       "    }\n",
       "\n",
       "    .dataframe tbody tr th {\n",
       "        vertical-align: top;\n",
       "    }\n",
       "\n",
       "    .dataframe thead th {\n",
       "        text-align: right;\n",
       "    }\n",
       "</style>\n",
       "<table border=\"1\" class=\"dataframe\">\n",
       "  <thead>\n",
       "    <tr style=\"text-align: right;\">\n",
       "      <th></th>\n",
       "      <th>filename</th>\n",
       "      <th>chroma_stft</th>\n",
       "      <th>mfcc1</th>\n",
       "      <th>spectral_bandwidth</th>\n",
       "      <th>rolloff</th>\n",
       "      <th>label</th>\n",
       "    </tr>\n",
       "  </thead>\n",
       "  <tbody>\n",
       "    <tr>\n",
       "      <th>0</th>\n",
       "      <td>blues.00065.wav</td>\n",
       "      <td>0.292730</td>\n",
       "      <td>2372.164643</td>\n",
       "      <td>5614.449384</td>\n",
       "      <td>-4.537642</td>\n",
       "      <td>NaN</td>\n",
       "    </tr>\n",
       "    <tr>\n",
       "      <th>1</th>\n",
       "      <td>blues.00015.wav</td>\n",
       "      <td>0.270313</td>\n",
       "      <td>1731.192252</td>\n",
       "      <td>2930.540613</td>\n",
       "      <td>-3.679262</td>\n",
       "      <td>NaN</td>\n",
       "    </tr>\n",
       "    <tr>\n",
       "      <th>2</th>\n",
       "      <td>blues.00044.wav</td>\n",
       "      <td>0.390212</td>\n",
       "      <td>2375.102120</td>\n",
       "      <td>5198.360233</td>\n",
       "      <td>3.518596</td>\n",
       "      <td>NaN</td>\n",
       "    </tr>\n",
       "    <tr>\n",
       "      <th>3</th>\n",
       "      <td>blues.00002.wav</td>\n",
       "      <td>0.363603</td>\n",
       "      <td>1747.165985</td>\n",
       "      <td>3040.514948</td>\n",
       "      <td>1.033480</td>\n",
       "      <td>NaN</td>\n",
       "    </tr>\n",
       "    <tr>\n",
       "      <th>4</th>\n",
       "      <td>blues.00098.wav</td>\n",
       "      <td>0.442972</td>\n",
       "      <td>2206.710936</td>\n",
       "      <td>4829.320798</td>\n",
       "      <td>1.836111</td>\n",
       "      <td>NaN</td>\n",
       "    </tr>\n",
       "  </tbody>\n",
       "</table>\n",
       "</div>"
      ],
      "text/plain": [
       "          filename  chroma_stft        mfcc1  spectral_bandwidth   rolloff  \\\n",
       "0  blues.00065.wav     0.292730  2372.164643         5614.449384 -4.537642   \n",
       "1  blues.00015.wav     0.270313  1731.192252         2930.540613 -3.679262   \n",
       "2  blues.00044.wav     0.390212  2375.102120         5198.360233  3.518596   \n",
       "3  blues.00002.wav     0.363603  1747.165985         3040.514948  1.033480   \n",
       "4  blues.00098.wav     0.442972  2206.710936         4829.320798  1.836111   \n",
       "\n",
       "   label  \n",
       "0    NaN  \n",
       "1    NaN  \n",
       "2    NaN  \n",
       "3    NaN  \n",
       "4    NaN  "
      ]
     },
     "execution_count": 3,
     "metadata": {},
     "output_type": "execute_result"
    }
   ],
   "source": [
    "df_test.head()                                            #display first 5 rows of data"
   ]
  },
  {
   "cell_type": "code",
   "execution_count": 4,
   "metadata": {},
   "outputs": [],
   "source": [
    "df = df.drop(['length','filename'],axis=1)             #remove the length and filename column since irrelevant\n",
    "df = df.sample(frac=1)                                 #randomize rows of dataset every run\n",
    "\n",
    "df_test = df_test.drop(['filename','label'],axis=1)"
   ]
  },
  {
   "cell_type": "code",
   "execution_count": 5,
   "metadata": {},
   "outputs": [],
   "source": [
    "#sns.scatterplot(data = df, x ='chroma_stft_mean',y='mfcc1_mean',hue='label')"
   ]
  },
  {
   "cell_type": "code",
   "execution_count": 6,
   "metadata": {},
   "outputs": [],
   "source": [
    "#-----------------------------------------Encode The Genre Into Numbers-----------------------------------------\n",
    "labelEncoder = LabelEncoder()                              #store encoded labels into variable\n",
    "le = labelEncoder.fit(df['label'])                         #fit label into the variable\n",
    "df['label'] = le.transform(df['label'])                    #transform label values into numbers\n",
    "Y_genre = df['label']                                      #Assign label to Y_genre\n",
    "X_features = df.drop('label',axis=1)                       #Assign all features to X_feature"
   ]
  },
  {
   "cell_type": "code",
   "execution_count": 7,
   "metadata": {},
   "outputs": [],
   "source": [
    "#---------------------------------------Normalize the features between 0-1---------------------------------------\n",
    "scalar = MinMaxScaler()                                    \n",
    "scalar.fit(X_features)                                     #Fit features into scalar\n",
    "X_cols = X_features.columns\n",
    "X_features[X_cols] = scalar.transform(X_features)                 #Transform features into 0-1\n",
    "\n",
    "scalar2 = MinMaxScaler()\n",
    "scalar2.fit(df_test)\n",
    "X_test_cols = df_test.columns\n",
    "df_test[X_test_cols] = scalar2.transform(df_test)"
   ]
  },
  {
   "cell_type": "code",
   "execution_count": 8,
   "metadata": {},
   "outputs": [],
   "source": [
    "#------------------------------Scatterplot of Data--------------------------------------------------\n",
    "#sns.scatterplot(data = df, x ='chroma_stft_var',y='rolloff_mean',hue='label')"
   ]
  },
  {
   "cell_type": "code",
   "execution_count": 9,
   "metadata": {},
   "outputs": [],
   "source": [
    "#------------------------------------------Feature Reduction-----------------------------------------------------\n",
    "best_feat = SelectKBest(score_func= f_classif, k=4)          #Auto select 4 features that best differentiate\n",
    "fit = best_feat.fit(X_features,Y_genre)                      #the genres"
   ]
  },
  {
   "cell_type": "code",
   "execution_count": 10,
   "metadata": {},
   "outputs": [],
   "source": [
    "feat_scores = pd.DataFrame(fit.scores_)                      #Extract optimum score of each feature\n",
    "feat_columns = pd.DataFrame(X_features.columns)              #Extract the column names"
   ]
  },
  {
   "cell_type": "code",
   "execution_count": 11,
   "metadata": {},
   "outputs": [],
   "source": [
    "sel_scores = pd.concat([feat_columns,feat_scores],axis=1)    #Concatenate the two\n",
    "sel_scores.columns = ['Features','Scores']                   #Name the two new columns"
   ]
  },
  {
   "cell_type": "code",
   "execution_count": 12,
   "metadata": {},
   "outputs": [
    {
     "data": {
      "text/html": [
       "<div>\n",
       "<style scoped>\n",
       "    .dataframe tbody tr th:only-of-type {\n",
       "        vertical-align: middle;\n",
       "    }\n",
       "\n",
       "    .dataframe tbody tr th {\n",
       "        vertical-align: top;\n",
       "    }\n",
       "\n",
       "    .dataframe thead th {\n",
       "        text-align: right;\n",
       "    }\n",
       "</style>\n",
       "<table border=\"1\" class=\"dataframe\">\n",
       "  <thead>\n",
       "    <tr style=\"text-align: right;\">\n",
       "      <th></th>\n",
       "      <th>Features</th>\n",
       "      <th>Scores</th>\n",
       "    </tr>\n",
       "  </thead>\n",
       "  <tbody>\n",
       "    <tr>\n",
       "      <th>0</th>\n",
       "      <td>chroma_stft_mean</td>\n",
       "      <td>176.453282</td>\n",
       "    </tr>\n",
       "    <tr>\n",
       "      <th>17</th>\n",
       "      <td>mfcc1_mean</td>\n",
       "      <td>130.371835</td>\n",
       "    </tr>\n",
       "    <tr>\n",
       "      <th>6</th>\n",
       "      <td>spectral_bandwidth_mean</td>\n",
       "      <td>116.601879</td>\n",
       "    </tr>\n",
       "    <tr>\n",
       "      <th>8</th>\n",
       "      <td>rolloff_mean</td>\n",
       "      <td>110.871317</td>\n",
       "    </tr>\n",
       "  </tbody>\n",
       "</table>\n",
       "</div>"
      ],
      "text/plain": [
       "                   Features      Scores\n",
       "0          chroma_stft_mean  176.453282\n",
       "17               mfcc1_mean  130.371835\n",
       "6   spectral_bandwidth_mean  116.601879\n",
       "8              rolloff_mean  110.871317"
      ]
     },
     "execution_count": 12,
     "metadata": {},
     "output_type": "execute_result"
    }
   ],
   "source": [
    "sel_scores.sort_values(by=['Scores'],ascending=False)        #Sort the scores so that highest is displayed first\n",
    "sel_largest = sel_scores.nlargest(4,'Scores')                #Display the 4 best ones\n",
    "sel_largest"
   ]
  },
  {
   "cell_type": "code",
   "execution_count": 13,
   "metadata": {},
   "outputs": [],
   "source": [
    "X_features = X_features[sel_largest['Features'].T]           #Reduce the features to the 4 with best scores"
   ]
  },
  {
   "cell_type": "code",
   "execution_count": 14,
   "metadata": {},
   "outputs": [],
   "source": [
    "#-------------------------------------Split data into train and test----------------------------------------\n",
    "#rs = 42\n",
    "#X_train,X_test,y_train,y_test = train_test_split(X_features,Y_genre,test_size=0.25,random_state=rs)"
   ]
  },
  {
   "cell_type": "code",
   "execution_count": 15,
   "metadata": {},
   "outputs": [],
   "source": [
    "#-----------------------------------------Import algorithms------------------------------------------------------\n",
    "from sklearn.ensemble import RandomForestClassifier"
   ]
  },
  {
   "cell_type": "code",
   "execution_count": 16,
   "metadata": {},
   "outputs": [],
   "source": [
    "# df = df.sample(frac=1)                                #randomize rows of dataset\n",
    "# row,col = pd.concat([X_features,Y_genre],axis=1).shape  #extract size of dataset\n",
    "# split = 1.0                                          #3/4 training split\n",
    "# X_train = df.iloc[:int(row*split),:-1]             #obtain 75% of test data\n",
    "# y_train = df.iloc[:int(row*split),-1:]            #obtain 75% of genre data\n",
    "# X_test = df.iloc[int(row*split):,:-1]              #obtain 25% of test data\n",
    "# y_test = df.iloc[int(row*split):,-1:]             #obtain 25% of genre data"
   ]
  },
  {
   "cell_type": "code",
   "execution_count": 22,
   "metadata": {},
   "outputs": [
    {
     "data": {
      "text/plain": [
       "RandomForestClassifier(min_samples_leaf=2, min_samples_split=4,\n",
       "                       n_estimators=180)"
      ]
     },
     "execution_count": 22,
     "metadata": {},
     "output_type": "execute_result"
    }
   ],
   "source": [
    "clf = RandomForestClassifier(n_estimators=180, max_depth=None,min_samples_split=4,min_samples_leaf=2,\n",
    "                             max_features='auto')\n",
    "clf.fit(X_features,Y_genre)"
   ]
  },
  {
   "cell_type": "code",
   "execution_count": 23,
   "metadata": {},
   "outputs": [
    {
     "data": {
      "text/plain": [
       "array([7, 9, 7, 8, 4, 7, 1, 5, 8, 8, 7, 7, 2, 2, 4, 4, 8, 3, 8, 8, 4, 2,\n",
       "       8, 4, 4, 4, 1, 4, 0, 4, 4, 8, 8, 9, 8, 8, 2, 9, 9, 8, 1, 4, 4, 4,\n",
       "       7, 9, 8, 9, 7, 7, 6, 7, 2, 7, 8, 4, 8, 1, 9, 5, 8, 9, 8, 7, 8, 1,\n",
       "       4, 9, 4, 8, 4, 4, 8, 2, 8, 8, 7, 7, 1, 4, 9, 9, 8, 7, 8, 4, 4, 7,\n",
       "       4, 9, 7, 4, 5, 8, 9, 9, 2, 7, 7, 4, 8, 2, 1, 1, 5, 5, 5, 4, 0, 8,\n",
       "       1, 3, 1, 1, 9, 1, 1, 9, 1, 5, 9, 0, 9, 0, 1, 1, 0, 1, 1, 8, 8, 9,\n",
       "       5, 5, 1, 1, 1, 9, 1, 9, 5, 1, 1, 5, 1, 5, 1, 1, 1, 1, 1, 1, 5, 1,\n",
       "       8, 3, 1, 1, 4, 1, 8, 9, 1, 8, 4, 1, 8, 1, 1, 1, 1, 1, 1, 1, 5, 5,\n",
       "       1, 1, 9, 5, 1, 5])"
      ]
     },
     "execution_count": 23,
     "metadata": {},
     "output_type": "execute_result"
    }
   ],
   "source": [
    "clf.predict(df_test)"
   ]
  },
  {
   "cell_type": "code",
   "execution_count": null,
   "metadata": {},
   "outputs": [],
   "source": []
  },
  {
   "cell_type": "code",
   "execution_count": 19,
   "metadata": {},
   "outputs": [],
   "source": [
    "# from sklearn.model_selection import GridSearchCV\n",
    "# n_estimators = np.arange(50,200,10)\n",
    "# max_features = ['auto','sqrt']\n",
    "# max_depth = [None]\n",
    "# min_samples_leaf = [1,2,3]\n",
    "# min_samples_split = [2,4]\n",
    "\n",
    "# parameters = {'n_estimators':n_estimators,\n",
    "#               'max_features':max_features,\n",
    "#               'min_samples_leaf':min_samples_leaf,\n",
    "#               'min_samples_split':min_samples_split,\n",
    "#               'max_depth':max_depth}"
   ]
  },
  {
   "cell_type": "code",
   "execution_count": 20,
   "metadata": {},
   "outputs": [],
   "source": [
    "# clfGridSearch = RandomForestClassifier()\n",
    "# rf_Grid = GridSearchCV(clfGridSearch,parameters,cv=3,verbose=2,n_jobs=4)"
   ]
  },
  {
   "cell_type": "code",
   "execution_count": 21,
   "metadata": {},
   "outputs": [],
   "source": [
    "# %%time\n",
    "# rf_Grid.fit(X_train,y_train.values.ravel())\n",
    "# print('Best Scores:',rf_Grid.best_score_)\n",
    "# print('Best Parameters:',rf_Grid.best_params_)"
   ]
  },
  {
   "cell_type": "code",
   "execution_count": null,
   "metadata": {},
   "outputs": [],
   "source": []
  }
 ],
 "metadata": {
  "kernelspec": {
   "display_name": "Python 3",
   "language": "python",
   "name": "python3"
  },
  "language_info": {
   "codemirror_mode": {
    "name": "ipython",
    "version": 3
   },
   "file_extension": ".py",
   "mimetype": "text/x-python",
   "name": "python",
   "nbconvert_exporter": "python",
   "pygments_lexer": "ipython3",
   "version": "3.8.6"
  }
 },
 "nbformat": 4,
 "nbformat_minor": 4
}
